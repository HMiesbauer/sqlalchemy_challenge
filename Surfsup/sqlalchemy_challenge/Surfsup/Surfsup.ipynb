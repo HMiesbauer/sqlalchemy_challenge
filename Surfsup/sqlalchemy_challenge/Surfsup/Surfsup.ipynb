{
 "cells": [
  {
   "cell_type": "code",
   "execution_count": 1,
   "id": "a5d47a0c-71f8-409e-967c-5912fa5693fc",
   "metadata": {},
   "outputs": [],
   "source": [
    "%matplotlib inline\n",
    "from matplotlib import style\n",
    "style.use('fivethirtyeight')\n",
    "import matplotlib.pyplot as plt"
   ]
  },
  {
   "cell_type": "code",
   "execution_count": 2,
   "id": "f1f6809a-967b-4bb9-9637-c9298cf196bd",
   "metadata": {},
   "outputs": [],
   "source": [
    "import numpy as np\n",
    "import pandas as pd\n",
    "import datetime as dt"
   ]
  },
  {
   "cell_type": "markdown",
   "id": "1df5094b-55a7-458a-9a9e-3df3c120ebae",
   "metadata": {},
   "source": [
    "Reflect Tables into SQLAlchemy ORM"
   ]
  },
  {
   "cell_type": "code",
   "execution_count": 3,
   "id": "44437eb6-8fb5-4360-b695-c11e34d8fe93",
   "metadata": {},
   "outputs": [],
   "source": [
    "# Python SQL toolkit and Object Relational Mapper\n",
    "import sqlalchemy\n",
    "from sqlalchemy.ext.automap import automap_base\n",
    "from sqlalchemy.orm import Session, sessionmaker\n",
    "from sqlalchemy import create_engine, func, inspect, column\n",
    "import datetime as dt"
   ]
  },
  {
   "cell_type": "code",
   "execution_count": 4,
   "id": "09e9d231-9e67-4e1a-88ce-9f24a2648930",
   "metadata": {},
   "outputs": [],
   "source": [
    "# create engine to hawaii.sqlite\n",
    "engine = create_engine(\"sqlite:///Resources/hawaii.sqlite\")"
   ]
  },
  {
   "cell_type": "code",
   "execution_count": 5,
   "id": "6f3139fc-a29f-46f9-a363-eebb4e781c20",
   "metadata": {},
   "outputs": [],
   "source": [
    "#TO DO MY CODE HERE\n",
    "# reflect an existing database into a new model\n",
    "Base = automap_base()\n",
    "\n",
    "# reflect the tables\n",
    "Base.prepare(autoload_with=engine)"
   ]
  },
  {
   "cell_type": "code",
   "execution_count": 6,
   "id": "00bf2e18-ee7d-4ccc-a7b9-e1b78260895f",
   "metadata": {},
   "outputs": [
    {
     "data": {
      "text/plain": [
       "['measurement', 'station']"
      ]
     },
     "execution_count": 6,
     "metadata": {},
     "output_type": "execute_result"
    }
   ],
   "source": [
    "#TO DO MY CODE HERE\n",
    "# View all of the classes that automap found\n",
    "Base.classes.keys()"
   ]
  },
  {
   "cell_type": "code",
   "execution_count": 7,
   "id": "b64ccb7e-4b75-477a-81d0-9cfa60866e28",
   "metadata": {},
   "outputs": [],
   "source": [
    "#TO DO MY CODE HERE\n",
    "## Save references to each table\n",
    "measurement = Base.classes.measurement\n",
    "station = Base.classes.station\n"
   ]
  },
  {
   "cell_type": "code",
   "execution_count": 8,
   "id": "fad26f28-cfb0-4faf-8516-970729907513",
   "metadata": {},
   "outputs": [],
   "source": [
    "#TO DO MY CODE HERE\n",
    "# Create our session (link) from Python to the DB\n",
    "session = Session(engine)"
   ]
  },
  {
   "cell_type": "code",
   "execution_count": 9,
   "id": "83a80a6f-de83-49b5-934d-303a5197a91a",
   "metadata": {},
   "outputs": [
    {
     "data": {
      "text/plain": [
       "{'_sa_instance_state': <sqlalchemy.orm.state.InstanceState at 0x1df8514ae00>,\n",
       " 'station': 'USC00519397',\n",
       " 'date': '2010-01-01',\n",
       " 'tobs': 65.0,\n",
       " 'id': 1,\n",
       " 'prcp': 0.08}"
      ]
     },
     "execution_count": 9,
     "metadata": {},
     "output_type": "execute_result"
    }
   ],
   "source": [
    "first_row = session.query(measurement).first()\n",
    "first_row.__dict__"
   ]
  },
  {
   "cell_type": "code",
   "execution_count": 10,
   "id": "11de57ea-e488-4c6e-ab90-faadb63123e7",
   "metadata": {},
   "outputs": [
    {
     "data": {
      "text/plain": [
       "{'_sa_instance_state': <sqlalchemy.orm.state.InstanceState at 0x1df851f5cc0>,\n",
       " 'id': 1,\n",
       " 'latitude': 21.2716,\n",
       " 'longitude': -157.8168,\n",
       " 'station': 'USC00519397',\n",
       " 'name': 'WAIKIKI 717.2, HI US',\n",
       " 'elevation': 3.0}"
      ]
     },
     "execution_count": 10,
     "metadata": {},
     "output_type": "execute_result"
    }
   ],
   "source": [
    "first_row = session.query(station).first()\n",
    "first_row.__dict__"
   ]
  },
  {
   "cell_type": "code",
   "execution_count": 11,
   "id": "4ad07cb6-fce5-49b6-9ae7-7450bd416c41",
   "metadata": {},
   "outputs": [
    {
     "name": "stdout",
     "output_type": "stream",
     "text": [
      "Table: measurement\n",
      "Table: station\n",
      "Column: id - Type: INTEGER\n",
      "Column: station - Type: TEXT\n",
      "Column: name - Type: TEXT\n",
      "Column: latitude - Type: FLOAT\n",
      "Column: longitude - Type: FLOAT\n",
      "Column: elevation - Type: FLOAT\n"
     ]
    }
   ],
   "source": [
    "inspector = inspect(engine)\n",
    "tables = inspector.get_table_names()\n",
    "for table_name in tables:\n",
    "    print(f\"Table: {table_name}\")\n",
    "\n",
    "columns = inspector.get_columns(table_name)\n",
    "for column in columns:\n",
    "        print(f\"Column: {column['name']} - Type: {column['type']}\")"
   ]
  },
  {
   "cell_type": "markdown",
   "id": "0ef6cf4d-2cb8-49f3-98fe-721f2c4e0e3d",
   "metadata": {},
   "source": [
    "#Exploratory Precipitation Analysis"
   ]
  },
  {
   "cell_type": "code",
   "execution_count": 12,
   "id": "ee71e687-f6c6-4319-93bd-bd8f9e17c4ff",
   "metadata": {},
   "outputs": [
    {
     "data": {
      "text/plain": [
       "('2017-08-23',)"
      ]
     },
     "execution_count": 12,
     "metadata": {},
     "output_type": "execute_result"
    }
   ],
   "source": [
    "#TO DO MY CODE HERE\n",
    "# Find the most recent date in the data set.\n",
    "session.query(measurement.date).order_by(measurement.date.desc()).first()\n"
   ]
  },
  {
   "cell_type": "code",
   "execution_count": 13,
   "id": "3901a3f0-273a-41ad-9741-5cf8a37acc22",
   "metadata": {},
   "outputs": [
    {
     "name": "stdout",
     "output_type": "stream",
     "text": [
      "            Date  Precipation Data\n",
      "0     2016-08-24              0.08\n",
      "1     2016-08-25              0.08\n",
      "2     2016-08-26              0.00\n",
      "3     2016-08-27              0.00\n",
      "4     2016-08-28              0.01\n",
      "...          ...               ...\n",
      "2218  2017-08-19              0.09\n",
      "2219  2017-08-20               NaN\n",
      "2220  2017-08-21              0.56\n",
      "2221  2017-08-22              0.50\n",
      "2222  2017-08-23              0.45\n",
      "\n",
      "[2223 rows x 2 columns]\n",
      "            Date  Precipation Data\n",
      "0     2016-08-24              0.08\n",
      "1006  2016-08-24               NaN\n",
      "1524  2016-08-24              2.15\n",
      "702   2016-08-24              2.28\n",
      "360   2016-08-24              2.15\n"
     ]
    }
   ],
   "source": [
    "import datetime\n",
    "from datetime import timedelta\n",
    "\n",
    "#TO DO MY CODE HERE\n",
    "# Design a query to retrieve the last 12 months of precipitation data and plot the results. \n",
    "# Starting from the most recent data point in the database.\n",
    "last_12_months = session.query(measurement.date, measurement.prcp).\\\n",
    "    filter(measurement.date <= '2017-08-23', measurement.date >= '2016-08-23').\\\n",
    "    order_by(measurement.date).all()\n",
    "\n",
    "# Calculate the date one year from the last date in data set.\n",
    "last_date = session.query(func.max(measurement.date)).scalar()\n",
    "one_year_ago = datetime.datetime.strptime(last_date, '%Y-%m-%d') - datetime.timedelta(days=365) #stackoverflow https://stackoverflow.com/questions/19480028/attributeerror-datetime-module-has-no-attribute-strptime\n",
    "\n",
    "# Perform a query to retrieve the data and precipitation scores\n",
    "precipitation_data = session.query(measurement.date, measurement.prcp).filter(measurement.date >= one_year_ago).all()\n",
    "\n",
    "# Save the query results as a Pandas DataFrame. Explicitly set the column name\n",
    "df = pd.DataFrame(precipitation_data, columns=['Date', 'Precipation Data'])\n",
    "print(df)\n",
    "\n",
    "# Sort the dataframe by date\n",
    "df = df.sort_values(by='Date')\n",
    "\n",
    "print(df.head())"
   ]
  },
  {
   "cell_type": "code",
   "execution_count": 29,
   "id": "92df04ff-805c-413a-8c39-eca1c9111d3b",
   "metadata": {},
   "outputs": [
    {
     "data": {
      "image/png": "[encoded data removed]",
      "text/plain": [
       "<Figure size 640x480 with 1 Axes>"
      ]
     },
     "metadata": {},
     "output_type": "display_data"
    }
   ],
   "source": [
    "#TO DO MY CODE HERE\n",
    "# Use Pandas Plotting with Matplotlib to plot the data\n",
    "graph = df.plot(x='Date', y='Precipation Data', kind='bar')\n",
    "plt.xlabel('Date')\n",
    "plt.ylabel('Inches')\n",
    "plt.legend('Precipitation')\n",
    "plt.ylim(0, 7)\n",
    "plt.xticks(rotation=90)\n",
    "plt.show()"
   ]
  },
  {
   "cell_type": "code",
   "execution_count": 14,
   "id": "a18c6ef6-20c6-48fa-959f-a2d763771860",
   "metadata": {},
   "outputs": [
    {
     "data": {
      "text/plain": [
       "count    2015.000000\n",
       "mean        0.176462\n",
       "std         0.460288\n",
       "min         0.000000\n",
       "25%         0.000000\n",
       "50%         0.020000\n",
       "75%         0.130000\n",
       "max         6.700000\n",
       "Name: Precipation Data, dtype: float64"
      ]
     },
     "execution_count": 14,
     "metadata": {},
     "output_type": "execute_result"
    }
   ],
   "source": [
    "#TO DO MY CODE HERE\n",
    "# Use Pandas to calculate the summary statistics for the precipitation data\n",
    "summary_stats = df['Precipation Data'].describe()\n",
    "summary_stats"
   ]
  },
  {
   "cell_type": "markdown",
   "id": "ccdaa8f2-66a8-4838-8d2d-535778b72001",
   "metadata": {},
   "source": [
    "Exploratory Station Analysis"
   ]
  },
  {
   "cell_type": "code",
   "execution_count": 15,
   "id": "1e8c5fff-604e-4d12-912e-caf795b06d78",
   "metadata": {},
   "outputs": [
    {
     "name": "stdout",
     "output_type": "stream",
     "text": [
      "Total number of stations is 9\n"
     ]
    }
   ],
   "source": [
    "#TO DO MY CODE HERE\n",
    "# Design a query to calculate the total number of stations in the dataset\n",
    "all_stations = session.query(func.count(station.id)).scalar()\n",
    "print(f\"Total number of stations is {all_stations}\")"
   ]
  },
  {
   "cell_type": "code",
   "execution_count": 16,
   "id": "2b2c26fe-3ddd-4a9c-b29b-542715c5a455",
   "metadata": {},
   "outputs": [
    {
     "name": "stdout",
     "output_type": "stream",
     "text": [
      "Station: WAIHEE 837.5, HI US, Row Count: 2772\n",
      "Station: WAIKIKI 717.2, HI US, Row Count: 2724\n",
      "Station: KANEOHE 838.1, HI US, Row Count: 2709\n",
      "Station: WAIMANALO EXPERIMENTAL FARM, HI US, Row Count: 2669\n",
      "Station: MANOA LYON ARBO 785.2, HI US, Row Count: 2612\n",
      "Station: KUALOA RANCH HEADQUARTERS 886.9, HI US, Row Count: 2202\n",
      "Station: HONOLULU OBSERVATORY 702.2, HI US, Row Count: 1979\n",
      "Station: PEARL CITY, HI US, Row Count: 1372\n",
      "Station: UPPER WAHIAWA 874.3, HI US, Row Count: 511\n"
     ]
    }
   ],
   "source": [
    "#TO DO MY CODE HERE (ChatGPT, personal communication, February 27, 2024)\n",
    "# Design a query to find the most active stations (i.e. which stations have the most rows?)\n",
    "# List the stations and their counts in descending order.\n",
    "active_stations = session.query(measurement.station, func.count(measurement.station).label('row_count')).\\\n",
    "    group_by(measurement.station).\\\n",
    "    order_by(func.count(measurement.station).desc()).all()\n",
    "\n",
    "# Print the query result\n",
    "for station_id, row_count in active_stations:\n",
    "    station_name = session.query(station.name).filter(station.station == station_id).first()[0]\n",
    "    print(f\"Station: {station_name}, Row Count: {row_count}\")"
   ]
  },
  {
   "cell_type": "code",
   "execution_count": 17,
   "id": "16882545-4bcc-4373-b4a0-2626b7afc351",
   "metadata": {},
   "outputs": [
    {
     "name": "stdout",
     "output_type": "stream",
     "text": [
      "Station with the most observations: USC00519281, Observation count: 2772\n"
     ]
    }
   ],
   "source": [
    "#TO DO MY CODE HERE\n",
    "#Which station id has the greatest number of observations? (ChatGPT, personal communication, February 27, 2024)\n",
    "active_stations = session.query(measurement.station, func.count(measurement.station).label('row_count')).\\\n",
    "    group_by(measurement.station).\\\n",
    "    order_by(func.count(measurement.station).desc()).first()\n",
    "\n",
    "most_observations = active_stations[0]\n",
    "observation_count = active_stations[1]\n",
    "\n",
    "# Print the query result\n",
    "print(f\"Station with the most observations: {most_observations}, Observation count: {observation_count}\")\n"
   ]
  },
  {
   "cell_type": "code",
   "execution_count": 18,
   "id": "c82319b7-5496-4402-aff0-8d4b3aeabd2c",
   "metadata": {},
   "outputs": [
    {
     "ename": "NameError",
     "evalue": "name 'measuerment' is not defined",
     "output_type": "error",
     "traceback": [
      "\u001b[1;31m---------------------------------------------------------------------------\u001b[0m",
      "\u001b[1;31mNameError\u001b[0m                                 Traceback (most recent call last)",
      "Cell \u001b[1;32mIn[18], line 2\u001b[0m\n\u001b[0;32m      1\u001b[0m \u001b[38;5;66;03m#Design a query that calculates the lowest, highest, and average temperatures that filters on the most-active station id found in the previous query.\u001b[39;00m\n\u001b[1;32m----> 2\u001b[0m temp_variation \u001b[38;5;241m=\u001b[39m session\u001b[38;5;241m.\u001b[39mquery(\u001b[43mmeasuerment\u001b[49m\u001b[38;5;241m.\u001b[39mstation)\u001b[38;5;241m.\u001b[39mfilter(measurement\u001b[38;5;241m.\u001b[39mstation \u001b[38;5;241m==\u001b[39m \u001b[38;5;124m'\u001b[39m\u001b[38;5;124mUSC00519281\u001b[39m\u001b[38;5;124m'\u001b[39m)\u001b[38;5;241m.\u001b[39mall()\n",
      "\u001b[1;31mNameError\u001b[0m: name 'measuerment' is not defined"
     ]
    }
   ],
   "source": [
    "#Design a query that calculates the lowest, highest, and average temperatures that filters on the most-active station id found in the previous query.\n",
    "temp_variation = session.query(measuerment.station).filter(measurement.station == 'USC00519281').all()"
   ]
  },
  {
   "cell_type": "code",
   "execution_count": 19,
   "id": "79a38722-8981-4235-a7a0-7ae6c9520dde",
   "metadata": {},
   "outputs": [
    {
     "data": {
      "image/png": "[encoded data removed]",
      "text/plain": [
       "<Figure size 800x600 with 1 Axes>"
      ]
     },
     "metadata": {},
     "output_type": "display_data"
    }
   ],
   "source": [
    "#Design a query to get the previous 12 months of temperature observation (TOBS) data. To do so, complete the following steps:\n",
    "# Calculate the date one year from the last date in data set.\n",
    "\n",
    "last_date = session.query(func.max(measurement.date)).scalar()\n",
    "one_year_ago = datetime.datetime.strptime(last_date, '%Y-%m-%d') - datetime.timedelta(days=365) #stackoverflow https://stackoverflow.com/questions/19480028/attributeerror-datetime-module-has-no-attribute-strptime\n",
    "\n",
    "#Query the previous 12 months of TOBS data for that station. Comes from measurement table. (ChatGPT, personal communication, February 27, 2024)\n",
    "\n",
    "months_tobs = session.query(measurement.date, measurement.tobs).\\\n",
    "    filter(measurement.station == 'USC00519281').\\\n",
    "    filter(measurement.date >= one_year_ago).\\\n",
    "    filter(measurement.date <= last_date).all()\n",
    "#for date, tobs in months_tobs:\n",
    "    #print(f\"Date:{date}, TOBS: {tobs}\")\n",
    "\n",
    "#Plot the results as a histogram with bins=12\n",
    "variable = [tobs for date, tobs in months_tobs]\n",
    "plt.figure(figsize=(8, 6))\n",
    "plt.hist(variable, bins=12, color='blue', alpha=0.8)\n",
    "plt.xlabel('Temperature')\n",
    "plt.ylabel('Frequency')\n",
    "plt.legend('tobs')\n",
    "plt.tight_layout()\n",
    "plt.show()"
   ]
  },
  {
   "cell_type": "code",
   "execution_count": 127,
   "id": "2b191c76-b2fd-4eef-8872-7ebb45bd6db3",
   "metadata": {},
   "outputs": [],
   "source": [
    "#TO DO MY CODE HERE\n",
    "#Close session\n",
    "session.close()"
   ]
  },
  {
   "cell_type": "code",
   "execution_count": null,
   "id": "fb495ccc-4773-43f0-b506-64d8777a4159",
   "metadata": {},
   "outputs": [],
   "source": []
  }
 ],
 "metadata": {
  "kernelspec": {
   "display_name": "Python 3 (ipykernel)",
   "language": "python",
   "name": "python3"
  },
  "language_info": {
   "codemirror_mode": {
    "name": "ipython",
    "version": 3
   },
   "file_extension": ".py",
   "mimetype": "text/x-python",
   "name": "python",
   "nbconvert_exporter": "python",
   "pygments_lexer": "ipython3",
   "version": "3.10.13"
  }
 },
 "nbformat": 4,
 "nbformat_minor": 5
}
